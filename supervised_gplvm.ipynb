{
 "cells": [
  {
   "cell_type": "markdown",
   "metadata": {},
   "source": [
    "adapted from Gao et al. 2010 (http://ieeexplore.ieee.org/stamp/stamp.jsp?arnumber=5545418)"
   ]
  },
  {
   "cell_type": "code",
   "execution_count": 728,
   "metadata": {
    "collapsed": false
   },
   "outputs": [],
   "source": [
    "import numpy as np\n",
    "import matplotlib.pyplot as plt\n",
    "import scipy.optimize as op\n",
    "import pickle\n",
    "from astropy.table import Column\n",
    "from astropy.table import Table\n",
    "from sklearn.decomposition import PCA\n",
    "from sklearn.metrics.pairwise import rbf_kernel\n",
    "from scipy.spatial.distance import pdist\n",
    "from itertools import product\n",
    "%matplotlib inline"
   ]
  },
  {
   "cell_type": "markdown",
   "metadata": {},
   "source": [
    "# preparing input data"
   ]
  },
  {
   "cell_type": "code",
   "execution_count": 650,
   "metadata": {
    "collapsed": true
   },
   "outputs": [],
   "source": [
    "# loading training labels\n",
    "f = open('/Users/eilers/Dropbox/cygnet/data/training_labels_apogee_tgas.pickle', 'r')\n",
    "training_labels = pickle.load(f)\n",
    "f.close()\n",
    "\n",
    "# loading normalized spectra\n",
    "f = open('/Users/eilers/Dropbox/cygnet/data/apogee_spectra_norm.pickle', 'r')    \n",
    "spectra = pickle.load(f)\n",
    "f.close()\n",
    "\n",
    "wl = spectra[:, 0, 0]\n",
    "fluxes = spectra[:, :, 1].T\n",
    "ivars = (1./(spectra[:, :, 2]**2)).T "
   ]
  },
  {
   "cell_type": "code",
   "execution_count": 651,
   "metadata": {
    "collapsed": true
   },
   "outputs": [],
   "source": [
    "# remove duplicates       \n",
    "foo, idx = np.unique(training_labels['APOGEE_ID'], return_index = True)\n",
    "training_labels = training_labels[idx]\n",
    "fluxes = fluxes[idx, :]\n",
    "ivars = ivars[idx, :]\n",
    "        \n",
    "# data masking       \n",
    "masking = training_labels['K'] < 0.\n",
    "training_labels = training_labels[~masking]\n",
    "fluxes = fluxes[~masking]\n",
    "ivars = ivars[~masking]\n",
    "\n",
    "# scaling of data and training labels?!"
   ]
  },
  {
   "cell_type": "code",
   "execution_count": 652,
   "metadata": {
    "collapsed": true
   },
   "outputs": [],
   "source": [
    "# calculate K_MAG_ABS and Q\n",
    "\n",
    "Q = 10**(0.2*training_labels['K']) * training_labels['parallax']/100.                    # assumes parallaxes is in mas\n",
    "Q_err = training_labels['parallax_error'] * 10**(0.2*training_labels['K'])/100. \n",
    "Q = Column(Q, name = 'Q_MAG')\n",
    "Q_err = Column(Q_err, name = 'Q_MAG_ERR')\n",
    "training_labels.add_column(Q, index = 12)\n",
    "training_labels.add_column(Q_err, index = 13)"
   ]
  },
  {
   "cell_type": "code",
   "execution_count": 653,
   "metadata": {
    "collapsed": true
   },
   "outputs": [],
   "source": [
    "# latex\n",
    "\n",
    "latex = {}\n",
    "latex[\"TEFF\"] = r\"$T_{\\rm eff}$\"\n",
    "latex[\"LOGG\"] = r\"$\\log g$\"\n",
    "latex[\"FE_H\"] = r\"$\\rm [Fe/H]$\"\n",
    "latex[\"ALPHA_M\"] = r\"$[\\alpha/\\rm M]$\"\n",
    "latex[\"C_FE\"] = r\"$\\rm [C/Fe]$\"\n",
    "latex[\"N_FE\"] = r\"$\\rm [N/Fe]$\"\n",
    "latex[\"Q_MAG\"] = r\"$Q$\""
   ]
  },
  {
   "cell_type": "code",
   "execution_count": 654,
   "metadata": {
    "collapsed": true
   },
   "outputs": [],
   "source": [
    "def make_label_input(labels, training_labels):\n",
    "    tr_label_input = np.array([training_labels[x] for x in labels]).T\n",
    "    tr_ivar_input = 1./((np.array([training_labels[x+'_ERR'] for x in labels]).T)**2)\n",
    "    for x in range(tr_label_input.shape[1]):\n",
    "        bad = np.logical_or(tr_label_input[:, x] < -100., tr_label_input[:, x] > 9000.) # magic\n",
    "        tr_label_input[bad, x] = np.median(tr_label_input[:, x])\n",
    "        tr_ivar_input[bad, x] = 0.\n",
    "    # remove one outlier in T_eff and [N/Fe]!\n",
    "    bad = tr_label_input[:, 0] > 5200.\n",
    "    tr_label_input[bad, 0] = np.median(tr_label_input[:, 0])\n",
    "    tr_ivar_input[bad, 0] = 0.  \n",
    "    #bad = tr_label_input[:, 5] < -0.6\n",
    "    #tr_label_input[bad, 5] = np.median(tr_label_input[:, 5])\n",
    "    #tr_ivar_input[bad, 5] = 0.     \n",
    "    return tr_label_input, tr_ivar_input"
   ]
  },
  {
   "cell_type": "code",
   "execution_count": 1161,
   "metadata": {
    "collapsed": false
   },
   "outputs": [
    {
     "name": "stdout",
     "output_type": "stream",
     "text": [
      "(2, (2180, 2), (2180, 2), (2180, 8575), (2180, 8575))\n"
     ]
    }
   ],
   "source": [
    "labels = np.array(['TEFF', 'FE_H']) #, 'LOGG']) #, 'ALPHA_M', 'Q_MAG', 'N_FE', 'C_FE'])\n",
    "Nlabels = len(labels)\n",
    "latex_labels = [latex[l] for l in labels]\n",
    "tr_label_input, tr_ivar_input = make_label_input(labels, training_labels)\n",
    "print(Nlabels, tr_label_input.shape, tr_ivar_input.shape, fluxes.shape, ivars.shape)"
   ]
  },
  {
   "cell_type": "code",
   "execution_count": 1162,
   "metadata": {
    "collapsed": false
   },
   "outputs": [
    {
     "name": "stdout",
     "output_type": "stream",
     "text": [
      "pivots: [  4.22088330e+03  -2.17777684e-01]\n",
      "scales: [ 200.23879089    0.48587545]\n"
     ]
    }
   ],
   "source": [
    "# scale and pivot labels\n",
    "def get_pivots_and_scales(label_vals):  \n",
    "    qs = np.percentile(label_vals, (2.5, 50, 97.5), axis=0)\n",
    "    pivots = qs[1]\n",
    "    scales = (qs[2] - qs[0])/4.    \n",
    "    return pivots, scales\n",
    "\n",
    "pivots, scales = get_pivots_and_scales(tr_label_input)\n",
    "tr_label_input_scaled = (tr_label_input - pivots) / scales\n",
    "print('pivots: {}'.format(pivots))\n",
    "print('scales: {}'.format(scales))"
   ]
  },
  {
   "cell_type": "code",
   "execution_count": 1163,
   "metadata": {
    "collapsed": false
   },
   "outputs": [
    {
     "name": "stdout",
     "output_type": "stream",
     "text": [
      "(2, 10) (2, 2)\n"
     ]
    }
   ],
   "source": [
    "# take subset of data as input data\n",
    "X = fluxes[:2, 500:510]\n",
    "Y = tr_label_input_scaled[:2, :]\n",
    "print X.shape, Y.shape \n",
    "N = X.shape[0]\n",
    "D = X.shape[1]\n",
    "L = Y.shape[1]\n",
    "assert Y.shape[0] == N"
   ]
  },
  {
   "cell_type": "markdown",
   "metadata": {},
   "source": [
    "# Supervised GPLVM"
   ]
  },
  {
   "cell_type": "markdown",
   "metadata": {},
   "source": [
    "X: input spectra -- N x D\n",
    "\n",
    "Y: input labels -- N x L\n",
    "\n",
    "Z: latent space -- N x Q with Q>=L"
   ]
  },
  {
   "cell_type": "code",
   "execution_count": 1271,
   "metadata": {
    "collapsed": false
   },
   "outputs": [],
   "source": [
    "def logLikelihood_Z(pars, X, Y, hyper_params):\n",
    "    \n",
    "    Z = np.reshape(pars, (Y.shape[0], Y.shape[1]))  \n",
    "    theta_rbf, theta_band, sigmax2, gamma_rbf, gamma_band, sigmay2 = hyper_params    \n",
    "    kernel1 = kernelRBF(Z, theta_rbf, theta_band, sigmax2)\n",
    "    kernel2 = kernelRBF(Z, gamma_rbf, gamma_band, sigmay2)\n",
    "    \n",
    "    Lx = LxOrLy(kernel1, X)                      # eq. (18)\n",
    "    Ly = LxOrLy(kernel2, Y)                      # eq. (19)    \n",
    "    #print('L_Z: L_x={} '.format(Lx) + 'L_y={}'.format(Ly))\n",
    "    L = Lx + Ly + 0.5 * np.linalg.norm(Z)        # eq. (20)     \n",
    "    \n",
    "    gradL = dLdZ(X, Y, Z, kernel1, kernel2, theta_band, gamma_band)    \n",
    "    # reshape gradL back into 1D array\n",
    "    gradL = np.reshape(gradL, (Y.shape[0] * Y.shape[1], ))\n",
    "        \n",
    "    return -2.*L, -2.*gradL\n",
    "                    \n",
    "def logLikelihood_hyper(pars, X, Y, Z):\n",
    "    \n",
    "    Z = np.reshape(Z, (Y.shape[0], Y.shape[1]))      \n",
    "    theta_rbf, theta_band, sigmax2, gamma_rbf, gamma_band, sigmay2 = pars   \n",
    "    kernel1 = kernelRBF(Z, theta_rbf, theta_band, sigmax2)\n",
    "    kernel2 = kernelRBF(Z, gamma_rbf, gamma_band, sigmay2)\n",
    "    \n",
    "    Lx = LxOrLy(kernel1, X)                      # eq. (18)\n",
    "    Ly = LxOrLy(kernel2, Y)                      # eq. (19)    \n",
    "    #print('L_h: L_x={} '.format(Lx) + 'L_y={}'.format(Ly))\n",
    "    L = Lx + Ly + 0.5 * np.linalg.norm(Z)        # eq. (20) \n",
    "    \n",
    "    gradL = dLdhyper(X, Y, Z, kernel1, kernel2, pars)  \n",
    "    return -2.*L, -2.*gradL\n",
    "\n",
    "\n",
    "# eq. (21), (22)\n",
    "def dLdZ(X, Y, Z, kernel1, kernel2, theta_band, gamma_band):   \n",
    "    dlnpdZ = Z / np.linalg.norm(Z)\n",
    "    gradL = np.dot(dLdK(kernel1, X), dKdZ(theta_band, kernel1, Z)) + np.dot(dLdK(kernel2, Y), dKdZ(gamma_band, kernel2, Z)) + dlnpdZ  \n",
    "    return gradL\n",
    "\n",
    "def A_matrix(Z):                                 # should be shape: (N x N) x (N x Q)...\n",
    "    N, Q = Z.shape[0], Z.shape[1]\n",
    "    A = np.zeros((N, N, N, Q))\n",
    "    for entry in list(product(range(N), repeat=3)):\n",
    "        i, j, l = entry\n",
    "        if l == j:\n",
    "            A[i, j, l, :] += Z[i, :] - Z[l, :]\n",
    "            #print i, j, l, A[i, j, l, :]\n",
    "        if l == i:\n",
    "            A[i, j, l, :] += Z[j, :] - Z[l, :]\n",
    "            #print i, j, l, A[i, j, l, :]\n",
    "    return A\n",
    "\n",
    "\n",
    "# eq. (25), (26)\n",
    "def dKdZ(band, kernel, Z):\n",
    "    A = A_matrix(Z)\n",
    "    grad_dKdZ = band * np.tensordot(kernel, A)\n",
    "    return grad_dKdZ                     \n",
    "\n",
    "\n",
    "# eq. (23), (24)\n",
    "def dLdK(K, data):         \n",
    "    grad_dLdK = (np.dot(np.linalg.inv(K), np.dot(data, np.dot(data.T, np.linalg.inv(K)))) - data.shape[1] * np.linalg.inv(K))\n",
    "    return grad_dLdK                     # shape: N x N \n",
    "\n",
    "\n",
    "# eq. (28)\n",
    "def dLdhyper(X, Y, Z, kernel1, kernel2, hyper_params):    \n",
    "    theta_rbf, theta_band, sigmax2, gamma_rbf, gamma_band, sigmay2 = hyper_params \n",
    "    \n",
    "    dKdrbf, dKdband, dKdsigma2 = dKdhyper(Z, kernel1, theta_rbf, theta_band, sigmax2) \n",
    "    dLdtheta_rbf = np.tensordot(dLdK(kernel1, X), dKdrbf)\n",
    "    dLdtheta_band = np.tensordot(dLdK(kernel1, X), dKdband)\n",
    "    dLdtheta_sigma2 = np.tensordot(dLdK(kernel1, X), dKdsigma2)\n",
    "    \n",
    "    dKdrbf, dKdband, dKdsigma2 = dKdhyper(Z, kernel2, gamma_rbf, gamma_band, sigmay2)  \n",
    "    dLdgamma_rbf = np.tensordot(dLdK(kernel2, Y), dKdrbf)\n",
    "    dLdgamma_band = np.tensordot(dLdK(kernel2, Y), dKdband)\n",
    "    dLdgamma_sigma2 = np.tensordot(dLdK(kernel2, Y), dKdsigma2)\n",
    "    return np.array([dLdtheta_rbf, dLdtheta_band, dLdtheta_sigma2, dLdgamma_rbf, dLdgamma_band, dLdgamma_sigma2])\n",
    "\n",
    "\n",
    "# eq. (29), (30)\n",
    "def dKdhyper(Z, K, rbf, band, sigma2):\n",
    "    dKdrbf = 1./rbf * K\n",
    "    B = np.log(rbf_kernel(Z, gamma = 0.5))\n",
    "    dKdband = np.dot(K, B)\n",
    "    dKdsigma2 = np.eye(K.shape[0])    \n",
    "    return dKdrbf, dKdband, dKdsigma2\n",
    "\n",
    "\n",
    "# eq. (18), (19)\n",
    "def LxOrLy(K, data):   \n",
    "    L_term1 = -0.5 * data.shape[0] * data.shape[1] * np.log(2.*np.pi)\n",
    "    L_term2 = -0.5 * data.shape[1] * np.log(np.linalg.det(K))\n",
    "    L_term3 = -0.5 * np.matrix.trace(np.dot(np.linalg.inv(K), np.dot(data, data.T)))\n",
    "    return L_term1 + L_term2 + L_term3\n",
    "\n",
    "\n",
    "# radius basis function\n",
    "def kernelRBF(Z, rbf, band, sigma2):    \n",
    "    kernel = rbf * rbf_kernel(Z, gamma = 0.5 * band) + sigma2 * np.eye(Z.shape[0])\n",
    "    return kernel\n",
    "\n",
    "\n",
    "def PCAInitial(X, Q):\n",
    "    pca = PCA(Q)\n",
    "    Z_initial = pca.fit_transform(X)\n",
    "    return Z_initial"
   ]
  },
  {
   "cell_type": "code",
   "execution_count": 1279,
   "metadata": {
    "collapsed": false
   },
   "outputs": [],
   "source": [
    "def test_likelihood_h(pars, X, Y, Z):\n",
    "    \n",
    "    q, dldq = logLikelihood_hyper(pars, X, Y, Z)\n",
    "    \n",
    "    for k in range(len(pars)):\n",
    "        pars1 = 1. * pars\n",
    "        tiny = 1e-7 * pars[k]\n",
    "        pars1[k] += tiny\n",
    "        q1, foo = logLikelihood_hyper(pars1, X, Y, Z)\n",
    "        dldqk = (q1 - q)/tiny\n",
    "        print(k, q, q1, dldqk, dldq[k], (dldq[k]-dldqk)/(dldq[k]+dldqk))\n",
    "    return\n",
    "\n",
    "def test_likelihood_Z(pars, X, Y, hyper_params):\n",
    "    \n",
    "    q, dldq = logLikelihood_Z(pars, X, Y, hyper_params)\n",
    "    \n",
    "    for k in range(len(pars)):\n",
    "        pars1 = 1. * pars\n",
    "        tiny = 1e-7 * pars[k]\n",
    "        pars1[k] += tiny\n",
    "        q1, foo = logLikelihood_Z(pars1, X, Y, hyper_params)\n",
    "        dldqk = (q1 - q)/tiny\n",
    "        print(k, q, q1, dldqk, dldq[k], (dldq[k]-dldqk)/(dldq[k]+dldqk))\n",
    "    return"
   ]
  },
  {
   "cell_type": "code",
   "execution_count": 1281,
   "metadata": {
    "collapsed": false
   },
   "outputs": [
    {
     "name": "stdout",
     "output_type": "stream",
     "text": [
      "(4,) [ 2.07809502 -3.01397246 -1.79058551 -0.59766333]\n"
     ]
    }
   ],
   "source": [
    "# initialization \n",
    "theta_rbf, theta_band, sigmax2, gamma_rbf, gamma_band, sigmay2 = 1, 1, 1, 1, 1, 1\n",
    "hyper_params = np.array([theta_rbf, theta_band, sigmax2, gamma_rbf, gamma_band, sigmay2])\n",
    "\n",
    "Q = Y.shape[1]\n",
    "Z_initial = Y[:] #PCAInitial(X, Q)\n",
    "Z = Z_initial[:]\n",
    "Z = np.reshape(Z, (N*Q, ))\n",
    "print Z.shape, Z"
   ]
  },
  {
   "cell_type": "code",
   "execution_count": 1182,
   "metadata": {
    "collapsed": false
   },
   "outputs": [
    {
     "name": "stdout",
     "output_type": "stream",
     "text": [
      "(2, 2)\n"
     ]
    },
    {
     "data": {
      "text/plain": [
       "<matplotlib.colorbar.Colorbar at 0x13292a790>"
      ]
     },
     "execution_count": 1182,
     "metadata": {},
     "output_type": "execute_result"
    },
    {
     "data": {
      "image/png": "[encoded data removed]",
      "text/plain": [
       "<matplotlib.figure.Figure at 0x132727050>"
      ]
     },
     "metadata": {},
     "output_type": "display_data"
    }
   ],
   "source": [
    "kernel1 = kernelRBF(Z_initial, theta_rbf, theta_band, sigmax2)\n",
    "kernel2 = kernelRBF(Z_initial, theta_rbf, theta_band, sigmax2)\n",
    "print kernel1.shape\n",
    "#B = -0.5 * cdist(Z_initial, Z_initial).T * cdist(Z_initial, Z_initial) \n",
    "B = np.log(rbf_kernel(Z_initial, gamma = 0.5))\n",
    "plt.imshow(B, interpolation='None')\n",
    "plt.colorbar()"
   ]
  },
  {
   "cell_type": "code",
   "execution_count": 1282,
   "metadata": {
    "collapsed": false
   },
   "outputs": [
    {
     "name": "stdout",
     "output_type": "stream",
     "text": [
      "74.9719131511 [  20.27336434  205.19882115   10.13683186   -8.96596509  -39.94178885\n",
      "   -4.48301168]\n",
      "74.9719137166 [  20.27336429  205.19880063   10.13683183   -8.96596249  -39.94178485\n",
      "   -4.48301038]\n"
     ]
    }
   ],
   "source": [
    "grad_dLdK = dLdK(kernel1, X)\n",
    "dKdrbf, dKdband, dKdsigma2 = dKdhyper(Z_initial, kernel1, theta_rbf, theta_band, sigmax2)\n",
    "L, gradL = logLikelihood_hyper(hyper_params, X, Y, Z)\n",
    "print L, gradL\n",
    "hyper_new = hyper_params[:] \n",
    "hyper_new = (1. + 1e-7) * hyper_params\n",
    "# print hyper_new\n",
    "L, gradL = logLikelihood_hyper(hyper_new, X, Y, Z)\n",
    "print L, gradL"
   ]
  },
  {
   "cell_type": "code",
   "execution_count": 1280,
   "metadata": {
    "collapsed": false
   },
   "outputs": [
    {
     "name": "stdout",
     "output_type": "stream",
     "text": [
      "(0, 74.971913151062964, 74.971913657889601, 5.0682663754741952, 20.27336434466072, 0.60000471702499714)\n",
      "(1, 74.971913151062964, 74.971913151218686, 0.0015572254596918356, 205.19882114777613, 0.99998482239192699)\n",
      "(2, 74.971913151062964, 74.971913657904565, 5.0684160157743463, 10.136831857479152, 0.33333332570133933)\n",
      "(3, 74.971913151062964, 74.971912926915309, -2.2414765510347934, -8.9659650874816101, 0.60000210158015843)\n",
      "(4, 74.971913151062964, 74.971913151032652, -0.00030311753107525874, -39.941788847559963, 0.99998482215046025)\n",
      "(5, 74.971913151062964, 74.971912926912395, -2.2415056832869595, -4.4830116804151583, 0.33333336444746114)\n",
      "(0, 74.971913151062964, 74.971913046316189, -0.50405190209732453, -1.0121072585480746, 0.33509368253559929)\n",
      "(1, 74.971913151062964, 74.971912930609406, 0.73143852747639893, 1.4653775613484692, 0.334092160743721)\n",
      "(2, 74.971913151062964, 74.971913073306681, 0.43425059963847473, 0.87594278774934253, 0.33711984227876957)\n",
      "(3, 74.971913151062964, 74.971913142373452, 0.14539140938765505, 0.28613504447563937, 0.32615297122102105)\n"
     ]
    }
   ],
   "source": [
    "# testing likelihood functions\n",
    "test_likelihood_h(hyper_params, X, Y, Z)\n",
    "test_likelihood_Z(Z, X, Y, hyper_params)"
   ]
  },
  {
   "cell_type": "code",
   "execution_count": 1284,
   "metadata": {
    "collapsed": false
   },
   "outputs": [
    {
     "name": "stdout",
     "output_type": "stream",
     "text": [
      "optimizing hyper parameters\n",
      "optimizing latent parameters\n"
     ]
    },
    {
     "name": "stderr",
     "output_type": "stream",
     "text": [
      "/Users/eilers/anaconda/lib/python2.7/site-packages/ipykernel/__main__.py:96: RuntimeWarning: invalid value encountered in log\n"
     ]
    }
   ],
   "source": [
    "# iterative algorithm (Table 1)\n",
    "\n",
    "max_iter = 1\n",
    "for t in range(max_iter):\n",
    "    \n",
    "    # optimize hyperparameters\n",
    "    print(\"optimizing hyper parameters\")\n",
    "    res = op.minimize(logLikelihood_hyper, x0 = hyper_params, args = (X, Y, Z), method = 'L-BFGS-B', jac = True, \n",
    "                      options={'gtol':1e-12, 'ftol':1e-12})\n",
    "    \n",
    "    # update hyperparameters\n",
    "    hyper_params = res.x\n",
    "             \n",
    "    # optimize Z\n",
    "    print(\"optimizing latent parameters\")\n",
    "    res = op.minimize(logLikelihood_Z, x0 = Z, args = (X, Y, hyper_params), method = 'L-BFGS-B', jac = True, \n",
    "                      options={'gtol':1e-12, 'ftol':1e-12})\n",
    "             \n",
    "    # update Z\n",
    "    Z = res.x\n",
    "    \n",
    "    # check convergence\n",
    " \n",
    "Z_final = np.reshape(Z, (N, Q))"
   ]
  },
  {
   "cell_type": "code",
   "execution_count": 665,
   "metadata": {
    "collapsed": false
   },
   "outputs": [
    {
     "data": {
      "text/plain": [
       "<matplotlib.collections.PathCollection at 0x12b1d64d0>"
      ]
     },
     "execution_count": 665,
     "metadata": {},
     "output_type": "execute_result"
    },
    {
     "data": {
      "image/png": "[encoded data removed]",
      "text/plain": [
       "<matplotlib.figure.Figure at 0x116fd2810>"
      ]
     },
     "metadata": {},
     "output_type": "display_data"
    }
   ],
   "source": [
    "plt.scatter(Z_initial[:, 0], Z_final[:, 0])"
   ]
  },
  {
   "cell_type": "markdown",
   "metadata": {},
   "source": [
    "# testing stuff..."
   ]
  },
  {
   "cell_type": "code",
   "execution_count": 1046,
   "metadata": {
    "collapsed": false
   },
   "outputs": [
    {
     "name": "stdout",
     "output_type": "stream",
     "text": [
      "[[ 2. -1.]\n",
      " [-2.  1.]]\n",
      "(2, 2)\n"
     ]
    }
   ],
   "source": [
    "N, Q, D = 2, 2, 10\n",
    "X = np.ones((N, D))\n",
    "Y = np.ones((N, Q))\n",
    "Y[0, 0] = 2. \n",
    "Y[0, 1] = -1.\n",
    "Y[1, 0] = -2.\n",
    "print Y\n",
    "Z_initial = Y[:]\n",
    "Z = Z_initial[:]\n",
    "#Z = np.reshape(Z, (N*Q, ))\n",
    "print Z.shape"
   ]
  },
  {
   "cell_type": "code",
   "execution_count": 1047,
   "metadata": {
    "collapsed": true
   },
   "outputs": [],
   "source": [
    "theta_rbf, theta_band, sigmax2, gamma_rbf, gamma_band, sigmay2 = 1, 1, 1, 1, 1, 1\n",
    "hyper_params = np.array([theta_rbf, theta_band, sigmax2, gamma_rbf, gamma_band, sigmay2])"
   ]
  },
  {
   "cell_type": "code",
   "execution_count": 1048,
   "metadata": {
    "collapsed": false
   },
   "outputs": [
    {
     "name": "stdout",
     "output_type": "stream",
     "text": [
      "[[  2.00000000e+00   4.53999298e-05]\n",
      " [  4.53999298e-05   2.00000000e+00]]\n",
      "[[  2.00000000e+00   4.53999298e-05]\n",
      " [  4.53999298e-05   2.00000000e+00]]\n"
     ]
    }
   ],
   "source": [
    "# test kernel!\n",
    "\n",
    "kernel1 = kernelRBF(Z_initial, theta_rbf, theta_band, sigmax2)\n",
    "print kernel1\n",
    "\n",
    "# manual test\n",
    "K = np.zeros((N, N))\n",
    "for i in range(2):\n",
    "    for j in range(2):\n",
    "        K[i, j] = theta_rbf * np.exp(-0.5 * theta_band * ( (Z[i, 0] - Z[j, 0])**2 +  (Z[i, 1] - Z[j, 1])**2)) \n",
    "print K + sigmax2*np.eye(N)"
   ]
  },
  {
   "cell_type": "code",
   "execution_count": 1049,
   "metadata": {
    "collapsed": false
   },
   "outputs": [
    {
     "name": "stdout",
     "output_type": "stream",
     "text": [
      "3.99999999794 3.99999999794\n",
      "-7.56210524462 -7.56210524462\n"
     ]
    }
   ],
   "source": [
    "# test Lx and Ly\n",
    "\n",
    "Lx = LxOrLy(kernel1, Y)\n",
    "\n",
    "det = kernel1[0, 0] * kernel1[1, 1] - kernel1[0, 1] * kernel1[1, 0]\n",
    "print det, np.linalg.det(kernel1)\n",
    "\n",
    "inv_mat = np.zeros((N, N))\n",
    "inv_mat[0, 0] = 1./det * kernel1[1, 1]\n",
    "inv_mat[1, 0] = -1./det * kernel1[0, 1]\n",
    "inv_mat[0, 1] = -1./det * kernel1[1, 0]\n",
    "inv_mat[1, 1] = -1./det * kernel1[0, 0]\n",
    "#print inv_mat, np.linalg.inv(kernel1)\n",
    "\n",
    "Lx_man = - 0.5 * Q * N * np.log(2*np.pi)\n",
    "Lx_man += - 0.5 * Q * np.log(np.linalg.det(kernel1))\n",
    "brackets = np.dot( np.linalg.inv(kernel1), np.dot(Y, Y.T))\n",
    "Lx_man += - 0.5 * np.matrix.trace(brackets)\n",
    "print Lx, Lx_man"
   ]
  },
  {
   "cell_type": "code",
   "execution_count": 1050,
   "metadata": {
    "collapsed": false
   },
   "outputs": [
    {
     "name": "stdout",
     "output_type": "stream",
     "text": [
      "[[ 0.  0.]\n",
      " [ 0.  0.]]\n",
      "[[ 0.  0.]\n",
      " [ 0.  0.]]\n",
      "[[ 0.  0.]\n",
      " [ 0.  0.]]\n"
     ]
    }
   ],
   "source": [
    "# test dKdhyper\n",
    "\n",
    "dKdrbf, dKdband, dKdsigma2 = dKdhyper(Z, kernel1, theta_rbf, theta_band, sigmax2)\n",
    "\n",
    "drbf = 1/theta_rbf * kernel1\n",
    "print dKdrbf - drbf\n",
    "print dKdsigma2 - np.eye(2)\n",
    "B = np.zeros((2, 2))\n",
    "for i in range(2):\n",
    "    for j in range(2):\n",
    "        B[i, j] = -0.5 * ( (Z[i, 0] - Z[j, 0])**2 + (Z[i, 1] - Z[j, 1])**2)\n",
    "print dKdband - np.dot(kernel1, B)"
   ]
  },
  {
   "cell_type": "code",
   "execution_count": 1051,
   "metadata": {
    "collapsed": false
   },
   "outputs": [
    {
     "name": "stdout",
     "output_type": "stream",
     "text": [
      "[[ 0.25005675 -1.25003405]\n",
      " [-1.25003405  0.25005675]]\n",
      "[[ 0.25005675 -1.25003405]\n",
      " [-1.25003405  0.25005675]]\n"
     ]
    }
   ],
   "source": [
    "# test dLdK\n",
    "K = kernel1\n",
    "grad_dLdK = dLdK(K, Y)\n",
    "#print grad_dLdK\n",
    "\n",
    "term1 = np.zeros((2, 2))\n",
    "term1[0, 0] = 5 * (K[1, 1] + K[1, 0]) * (K[1, 1] + K[0, 1])\n",
    "term1[0, 1] = 5 * (K[0, 1] + K[0, 0]) * (-K[1, 1] - K[0, 1])\n",
    "term1[1, 0] = 5 * (K[1, 1] + K[1, 0]) * (-K[1, 0] - K[0, 0]) \n",
    "term1[1, 1] = 5 * (K[0, 0] + K[0, 1]) * (K[0, 0] + K[1, 0]) \n",
    "\n",
    "term2 = Q * np.linalg.inv(K)\n",
    "#print term1/(det**2) + term2\n",
    "\n",
    "#xx = np.dot(np.linalg.inv(K), np.dot(Y, np.dot(Y.T, np.linalg.inv(K))))\n",
    "#print xx - term2\n",
    "print term1/(det**2) - term2\n",
    "print grad_dLdK"
   ]
  },
  {
   "cell_type": "code",
   "execution_count": 1052,
   "metadata": {
    "collapsed": false
   },
   "outputs": [
    {
     "name": "stdout",
     "output_type": "stream",
     "text": [
      "1.0001135024\n",
      "1.0001135024\n",
      "0.500113502659\n",
      "0.500113502659\n",
      "50.001135024\n",
      "50.001135024\n",
      "[[ 0.  0.]\n",
      " [ 0.  0.]]\n"
     ]
    }
   ],
   "source": [
    "# test dLdhyper\n",
    "\n",
    "xx = np.tensordot(grad_dLdK, dKdrbf)\n",
    "print xx\n",
    "bla = 1./ theta_rbf * (grad_dLdK[0, 0]*dKdrbf[0, 0] + grad_dLdK[1, 0]*dKdrbf[1, 0] + grad_dLdK[0, 1]*dKdrbf[0, 1] + grad_dLdK[1, 1]*dKdrbf[1, 1])\n",
    "print bla\n",
    "\n",
    "xx = np.tensordot(grad_dLdK, dKdsigma2)\n",
    "print xx\n",
    "bla = grad_dLdK[0, 0]*dKdsigma2[0, 0] + grad_dLdK[1, 1]*dKdsigma2[1, 1]\n",
    "print bla\n",
    "\n",
    "xx = np.tensordot(grad_dLdK, dKdband)\n",
    "print xx\n",
    "KB = np.zeros((2, 2))\n",
    "KB[0,0] = K[0,0]*B[0,0] + K[0,1]*B[1,0]\n",
    "KB[0,1] = K[0,0]*B[0,1] + K[0,1]*B[1,1]\n",
    "KB[1,0] = K[1,0]*B[0,0] + K[1,1]*B[1,0]\n",
    "KB[1,1] = K[1,0]*B[0,1] + K[1,1]*B[1,1]\n",
    "bla = (grad_dLdK[0, 0]*KB[0, 0] + grad_dLdK[1, 0]*KB[1, 0] + grad_dLdK[0, 1]*KB[0, 1] + grad_dLdK[1, 1]*KB[1, 1])\n",
    "print bla\n",
    "print KB - np.dot(kernel1, B)"
   ]
  },
  {
   "cell_type": "code",
   "execution_count": 1053,
   "metadata": {
    "collapsed": false
   },
   "outputs": [
    {
     "name": "stdout",
     "output_type": "stream",
     "text": [
      "[[ -4.53999298e-04  -2.00000000e+01]\n",
      " [ -2.00000000e+01  -4.53999298e-04]]\n"
     ]
    }
   ],
   "source": [
    "print np.asarray(KB)"
   ]
  },
  {
   "cell_type": "code",
   "execution_count": null,
   "metadata": {
    "collapsed": true
   },
   "outputs": [],
   "source": []
  }
 ],
 "metadata": {
  "kernelspec": {
   "display_name": "Python 2",
   "language": "python",
   "name": "python2"
  },
  "language_info": {
   "codemirror_mode": {
    "name": "ipython",
    "version": 2
   },
   "file_extension": ".py",
   "mimetype": "text/x-python",
   "name": "python",
   "nbconvert_exporter": "python",
   "pygments_lexer": "ipython2",
   "version": "2.7.13"
  }
 },
 "nbformat": 4,
 "nbformat_minor": 0
}
