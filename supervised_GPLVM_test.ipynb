{
 "cells": [
  {
   "cell_type": "code",
   "execution_count": 2,
   "metadata": {
    "collapsed": true
   },
   "outputs": [],
   "source": [
    "import numpy as np\n",
    "import matplotlib.pyplot as plt\n",
    "import scipy.optimize as op\n",
    "import pickle\n",
    "from astropy.table import Column\n",
    "from astropy.table import Table\n",
    "from sklearn.decomposition import PCA\n",
    "from scipy.spatial.distance import pdist\n",
    "from itertools import product\n",
    "from scipy.spatial import distance_matrix\n",
    "%matplotlib inline"
   ]
  },
  {
   "cell_type": "code",
   "execution_count": 3,
   "metadata": {
    "collapsed": true
   },
   "outputs": [],
   "source": [
    "N = 5             # number of stars\n",
    "D = 7             # number of pixels\n",
    "Q = 3             # number of labels/latent dimensions, Q<=L"
   ]
  },
  {
   "cell_type": "code",
   "execution_count": 4,
   "metadata": {
    "collapsed": false
   },
   "outputs": [],
   "source": [
    "np.random.seed(17)\n",
    "X = np.random.uniform(0, 1, (N, D))          # data\n",
    "Y = np.random.normal(0, 1, (N, Q))           # labels"
   ]
  },
  {
   "cell_type": "code",
   "execution_count": 5,
   "metadata": {
    "collapsed": true
   },
   "outputs": [],
   "source": [
    "# radius basis function\n",
    "def kernelRBF(Z, rbf):   \n",
    "    B = B_matrix(Z)\n",
    "    band = 1.\n",
    "    kernel = rbf * np.exp(band * B) \n",
    "    return kernel\n",
    "\n",
    "# dimensionless log kernel\n",
    "def B_matrix(Z):\n",
    "    N = Z.shape[0]\n",
    "    B = np.zeros((N, N))\n",
    "    for entry in list(product(range(N), repeat=2)):\n",
    "        i, j = entry\n",
    "        B[i, j] = -0.5 * np.dot((Z[i, :] - Z[j, :]).T, (Z[i, :] - Z[j, :]))\n",
    "    return B"
   ]
  },
  {
   "cell_type": "code",
   "execution_count": 6,
   "metadata": {
    "collapsed": false
   },
   "outputs": [],
   "source": [
    "# initialize parameters\n",
    "theta_rbf, gamma_rbf = np.pi, np.pi\n",
    "hyper_params = np.array([theta_rbf, gamma_rbf])\n",
    "Z_initial = Y[:] \n",
    "Z = np.reshape(Z_initial, (N*Q,))"
   ]
  },
  {
   "cell_type": "code",
   "execution_count": 7,
   "metadata": {
    "collapsed": false
   },
   "outputs": [
    {
     "data": {
      "text/plain": [
       "<matplotlib.colorbar.Colorbar at 0x11877ec10>"
      ]
     },
     "execution_count": 7,
     "metadata": {},
     "output_type": "execute_result"
    },
    {
     "data": {
      "image/png": "[encoded data removed]",
      "text/plain": [
       "<matplotlib.figure.Figure at 0x1186a2390>"
      ]
     },
     "metadata": {},
     "output_type": "display_data"
    }
   ],
   "source": [
    "kernel1 = kernelRBF(Z_initial, theta_rbf)\n",
    "plt.imshow(kernel1, interpolation = None)\n",
    "plt.colorbar()"
   ]
  },
  {
   "cell_type": "code",
   "execution_count": 8,
   "metadata": {
    "collapsed": true
   },
   "outputs": [],
   "source": [
    "# derivative of the kernel with respect to the latent variables Z\n",
    "def dKdZ(Z, rbf):\n",
    "    kernel = kernelRBF(Z, rbf)\n",
    "    A = A_matrix(Z)\n",
    "    band = 1.\n",
    "    grad_dKdZ = band * kernel[:, :, None, None] * A\n",
    "    return grad_dKdZ\n",
    "\n",
    "def A_matrix(Z): \n",
    "    N, Q = Z.shape[0], Z.shape[1]\n",
    "    A = np.zeros((N, N, N, Q))\n",
    "    for entry in list(product(range(N), repeat=3)):\n",
    "        i, j, l = entry\n",
    "        if l == j:\n",
    "            A[i, j, l, :] += Z[i, :] - Z[l, :]\n",
    "        if l == i:\n",
    "            A[i, j, l, :] += Z[j, :] - Z[l, :]\n",
    "    return A "
   ]
  },
  {
   "cell_type": "code",
   "execution_count": 9,
   "metadata": {
    "collapsed": false
   },
   "outputs": [
    {
     "name": "stdout",
     "output_type": "stream",
     "text": [
      "(5, 5, 5, 3)\n"
     ]
    }
   ],
   "source": [
    "# testing the derivatives\n",
    "grad_dKdZ = dKdZ(Z_initial, theta_rbf)\n",
    "print grad_dKdZ.shape"
   ]
  },
  {
   "cell_type": "code",
   "execution_count": 10,
   "metadata": {
    "collapsed": false
   },
   "outputs": [
    {
     "name": "stdout",
     "output_type": "stream",
     "text": [
      "[[ 0.          0.          0.         -1.26455948  0.        ]\n",
      " [ 0.          0.          0.         -0.16952813  0.        ]\n",
      " [ 0.          0.          0.          0.56933462  0.        ]\n",
      " [-1.26455948 -0.16952813  0.56933462  0.         -0.00825594]\n",
      " [ 0.          0.          0.         -0.00825594  0.        ]]\n"
     ]
    }
   ],
   "source": [
    "# derivative with respect to the 2nd latent variable of the 4th object\n",
    "q = 1\n",
    "l = 3\n",
    "A_lq = np.zeros((N, N))\n",
    "for entry in list(product(range(N), repeat=2)):\n",
    "    i, j = entry\n",
    "    if j == l:\n",
    "        A_lq[i, j] += Z_initial[i, q] - Z_initial[l, q]\n",
    "    if i == l:\n",
    "        A_lq[i, j] += Z_initial[j, q] - Z_initial[l, q]\n",
    "print A_lq"
   ]
  },
  {
   "cell_type": "code",
   "execution_count": 11,
   "metadata": {
    "collapsed": false
   },
   "outputs": [
    {
     "data": {
      "text/plain": [
       "<matplotlib.colorbar.Colorbar at 0x11883ff50>"
      ]
     },
     "execution_count": 11,
     "metadata": {},
     "output_type": "execute_result"
    },
    {
     "data": {
      "image/png": "[encoded data removed]",
      "text/plain": [
       "<matplotlib.figure.Figure at 0x1186a2210>"
      ]
     },
     "metadata": {},
     "output_type": "display_data"
    }
   ],
   "source": [
    "plt.imshow(A_lq, interpolation = None)\n",
    "plt.colorbar()"
   ]
  },
  {
   "cell_type": "markdown",
   "metadata": {},
   "source": [
    "# analytical derivative of the kernel"
   ]
  },
  {
   "cell_type": "code",
   "execution_count": 12,
   "metadata": {
    "collapsed": false
   },
   "outputs": [
    {
     "data": {
      "text/plain": [
       "<matplotlib.colorbar.Colorbar at 0x118c7ab10>"
      ]
     },
     "execution_count": 12,
     "metadata": {},
     "output_type": "execute_result"
    },
    {
     "data": {
      "image/png": "[encoded data removed]",
      "text/plain": [
       "<matplotlib.figure.Figure at 0x118857550>"
      ]
     },
     "metadata": {},
     "output_type": "display_data"
    }
   ],
   "source": [
    "grad_dKdZ_analytic = kernel1 * A_lq\n",
    "plt.imshow(grad_dKdZ_analytic, interpolation = None)\n",
    "plt.colorbar()"
   ]
  },
  {
   "cell_type": "markdown",
   "metadata": {},
   "source": [
    "# numerical derivative of the kernel"
   ]
  },
  {
   "cell_type": "code",
   "execution_count": 13,
   "metadata": {
    "collapsed": false
   },
   "outputs": [
    {
     "name": "stdout",
     "output_type": "stream",
     "text": [
      "[[  0.00000000e+00   0.00000000e+00   0.00000000e+00]\n",
      " [  0.00000000e+00   0.00000000e+00   0.00000000e+00]\n",
      " [  0.00000000e+00   0.00000000e+00   0.00000000e+00]\n",
      " [  0.00000000e+00   1.00000000e-05   0.00000000e+00]\n",
      " [  0.00000000e+00   0.00000000e+00   0.00000000e+00]]\n"
     ]
    }
   ],
   "source": [
    "# sligtly new set of latent variables (2nd latent variable of 4th object)\n",
    "tiny = 1e-5\n",
    "Z_new = 1. * Z_initial\n",
    "Z_new[l, q] += tiny\n",
    "print Z_new - Z_initial"
   ]
  },
  {
   "cell_type": "code",
   "execution_count": 14,
   "metadata": {
    "collapsed": false
   },
   "outputs": [
    {
     "data": {
      "text/plain": [
       "<matplotlib.colorbar.Colorbar at 0x118f00350>"
      ]
     },
     "execution_count": 14,
     "metadata": {},
     "output_type": "execute_result"
    },
    {
     "data": {
      "image/png": "[encoded data removed]",
      "text/plain": [
       "<matplotlib.figure.Figure at 0x118dffa10>"
      ]
     },
     "metadata": {},
     "output_type": "display_data"
    }
   ],
   "source": [
    "kernel1_new = kernelRBF(Z_new, theta_rbf)\n",
    "grad_dKdZ_numerical = (kernel1_new - kernel1) / tiny\n",
    "plt.imshow(grad_dKdZ_numerical, interpolation = None)\n",
    "plt.colorbar()"
   ]
  },
  {
   "cell_type": "code",
   "execution_count": 15,
   "metadata": {
    "collapsed": false
   },
   "outputs": [
    {
     "data": {
      "text/plain": [
       "<matplotlib.colorbar.Colorbar at 0x1190fa0d0>"
      ]
     },
     "execution_count": 15,
     "metadata": {},
     "output_type": "execute_result"
    },
    {
     "data": {
      "image/png": "[encoded data removed]",
      "text/plain": [
       "<matplotlib.figure.Figure at 0x118dffe10>"
      ]
     },
     "metadata": {},
     "output_type": "display_data"
    }
   ],
   "source": [
    "# difference between old and new kernel\n",
    "plt.imshow(grad_dKdZ_numerical - grad_dKdZ_analytic, interpolation = None)\n",
    "plt.colorbar()"
   ]
  },
  {
   "cell_type": "markdown",
   "metadata": {
    "collapsed": true
   },
   "source": [
    "# testing the derivatives of likelihood"
   ]
  },
  {
   "cell_type": "code",
   "execution_count": 74,
   "metadata": {
    "collapsed": false
   },
   "outputs": [],
   "source": [
    "def lnL_Z(pars, X, Y, hyper_params):    \n",
    "    Z = np.reshape(pars, (Y.shape[0], Y.shape[1]))  \n",
    "    theta_rbf, gamma_rbf = hyper_params    \n",
    "    kernel1 = kernelRBF(Z, theta_rbf)\n",
    "    kernel2 = kernelRBF(Z, gamma_rbf)\n",
    "    \n",
    "    Lx = LxOrLy(kernel1, X)                      \n",
    "    Ly = LxOrLy(kernel2, Y)                          \n",
    "    L = Lx + Ly + np.linalg.norm(Z)            \n",
    "    \n",
    "    gradL = dLdZ(X, Y, Z, kernel1, kernel2, theta_rbf, gamma_rbf)        \n",
    "    gradL = np.reshape(gradL, (Y.shape[0] * Y.shape[1], ))   # reshape gradL back into 1D array   \n",
    "    #print -2.*Lx, -2.*Ly \n",
    "    return -2*L, -2*gradL\n",
    "\n",
    "\n",
    "def dLdK(K, data):   \n",
    "    inv_K = np.linalg.inv(K)\n",
    "    #grad_dLdK = 0.5 * (np.dot(inv_K, np.dot(data, np.dot(data.T, inv_K))) - data.shape[1] * inv_K)\n",
    "    #grad_dLdK = 0.5 * (np.dot(inv_K, np.dot(np.dot(data, data.T), inv_K)) - data.shape[1] * inv_K)\n",
    "    #grad_dLdK = 0.5 * (np.dot(np.dot(inv_K, np.dot(data, data.T)), inv_K) - data.shape[1] * inv_K)\n",
    "    #grad_dLdK = 0.5 * (np.dot(np.dot(inv_K, np.dot(data, data.T)), inv_K))\n",
    "    grad_dLdK = -0.5 * data.shape[1] * inv_K + 0.5 * (np.dot(np.dot(inv_K, np.dot(data, data.T)), inv_K))\n",
    "    #grad_dLdK = 0.5 * ((inv_K * np.dot(data, data.T) * inv_K) - data.shape[1] * inv_K)\n",
    "    return grad_dLdK                     # shape: N x N \n",
    "\n",
    "\n",
    "def dLdZ(X, Y, Z, kernel1, kernel2, theta_rbf, gamma_rbf):       \n",
    "    dlnpdZ = Z / np.linalg.norm(Z)    \n",
    "    grad_dKdZ1 = dKdZ(Z, theta_rbf)\n",
    "    grad_dKdZ2 = dKdZ(Z, gamma_rbf)      \n",
    "    grad_dLdK1 = dLdK(kernel1, X)\n",
    "    grad_dLdK2 = dLdK(kernel2, Y)\n",
    "    \n",
    "    gradL = np.sum(grad_dLdK1[:, :, None, None] * grad_dKdZ1, axis = (0, 1)) + \\\n",
    "            np.sum(grad_dLdK2[:, :, None, None] * grad_dKdZ2, axis = (0, 1)) + \\\n",
    "            dlnpdZ    \n",
    "    return gradL                         # shape: N x N x N x Q\n",
    "\n",
    "\n",
    "def LxOrLy(K, data):  \n",
    "    L_term1 = -0.5 * data.shape[0] * data.shape[1] * np.log(2.*np.pi)\n",
    "    L_term2 = -0.5 * data.shape[1] * np.linalg.slogdet(K)[1]\n",
    "    L_term3 = -0.5 * np.matrix.trace(np.dot(np.linalg.inv(K), np.dot(data, data.T)))\n",
    "    #L_term3 = -0.5 * np.matrix.trace(np.linalg.inv(K) * np.dot(data, data.T))\n",
    "    return L_term1 + L_term2 + L_term3\n",
    "\n",
    "\n",
    "def test_lnL_Z(pars, X, Y, hyper_params):    \n",
    "    qq, dldq = lnL_Z(pars, X, Y, hyper_params)   \n",
    "    for k in range(len(pars)):\n",
    "        pars1 = 1. * pars\n",
    "        tiny = 1e-5 #* pars[k]\n",
    "        pars1[k] += tiny\n",
    "        qq1, foo = lnL_Z(pars1, X, Y, hyper_params)\n",
    "        dldqk = (qq1 - qq)/tiny\n",
    "        print(k, qq, qq1, dldqk, dldq[k], (dldq[k]-dldqk)/(dldq[k]+dldqk))\n",
    "    return"
   ]
  },
  {
   "cell_type": "code",
   "execution_count": 75,
   "metadata": {
    "collapsed": false
   },
   "outputs": [
    {
     "data": {
      "text/plain": [
       "<matplotlib.colorbar.Colorbar at 0x119ccb5d0>"
      ]
     },
     "execution_count": 75,
     "metadata": {},
     "output_type": "execute_result"
    },
    {
     "data": {
      "image/png": "[encoded data removed]",
      "text/plain": [
       "<matplotlib.figure.Figure at 0x1199bc410>"
      ]
     },
     "metadata": {},
     "output_type": "display_data"
    }
   ],
   "source": [
    "# test dLdK\n",
    "\n",
    "L1 = LxOrLy(kernel1, X)\n",
    "tiny = 1e-5\n",
    "grad_dLdK_numerical = np.zeros((N, N))\n",
    "for i in range(N):\n",
    "    for j in range(N):\n",
    "        kernel1_new = 1. * kernel1\n",
    "        kernel1_new[i, j] += tiny #* kernel1[i, j]\n",
    "        L2 = LxOrLy(kernel1_new, X)\n",
    "        grad_dLdK_numerical[i, j] = (L2 - L1) / tiny\n",
    "\n",
    "grad_dLdK_analytic = dLdK(kernel1, X)\n",
    "\n",
    "#print ((grad_dLdK_numerical - grad_dLdK_analytic)/(grad_dLdK_numerical + grad_dLdK_analytic))\n",
    "#plt.imshow(grad_dLdK_analytic)\n",
    "#plt.colorbar()\n",
    "\n",
    "plt.imshow((grad_dLdK_numerical - grad_dLdK_analytic)/(grad_dLdK_numerical + grad_dLdK_analytic))\n",
    "plt.colorbar()\n",
    "#print X.shape\n",
    "#inv_K = np.linalg.inv(kernel1)\n",
    "#plt.imshow(np.dot(np.dot(inv_K, np.dot(X, X.T)), inv_K))\n",
    "#plt.colorbar()"
   ]
  },
  {
   "cell_type": "code",
   "execution_count": 76,
   "metadata": {
    "collapsed": false
   },
   "outputs": [
    {
     "name": "stdout",
     "output_type": "stream",
     "text": [
      "-8.57688972511e-07\n",
      "8.31998552032e-07\n"
     ]
    }
   ],
   "source": [
    "# test dLdK\n",
    "kernel = kernelRBF(Z_initial, gamma_rbf)\n",
    "L1 = LxOrLy(kernel, Y)\n",
    "tiny = 1e-5\n",
    "kernel_new = 1. * kernel\n",
    "kernel_new[0, 0] += tiny\n",
    "L2 = LxOrLy(kernel_new, Y)\n",
    "\n",
    "inv_K = np.linalg.inv(kernel)\n",
    "grad_dLdK = -0.5 * Y.shape[1] * inv_K + 0.5 * (np.dot(np.dot(inv_K, np.dot(Y, Y.T)), inv_K))\n",
    "det_K = np.linalg.det(kernel)\n",
    "print grad_dLdK[0,0] - (L2-L1)/tiny\n",
    "print (grad_dLdK[0,0] - (L2-L1)/tiny)/(grad_dLdK[0,0] + (L2-L1)/tiny)"
   ]
  },
  {
   "cell_type": "code",
   "execution_count": 79,
   "metadata": {
    "collapsed": false
   },
   "outputs": [
    {
     "name": "stdout",
     "output_type": "stream",
     "text": [
      "0.000203272713898\n"
     ]
    }
   ],
   "source": [
    "# test dlnpdZ \n",
    "l, q = 0, 0 \n",
    "L1 = np.linalg.norm(Z_initial)\n",
    "tiny = 1e-3\n",
    "Z_new = 1. * Z_initial\n",
    "Z_new[l, q] += tiny\n",
    "L2 = np.linalg.norm(Z_new)\n",
    "\n",
    "dlnpdZ = Z_initial / np.linalg.norm(Z_initial)\n",
    "print (L2-L1)/tiny - dlnpdZ[l, q]"
   ]
  },
  {
   "cell_type": "code",
   "execution_count": 80,
   "metadata": {
    "collapsed": false
   },
   "outputs": [
    {
     "name": "stdout",
     "output_type": "stream",
     "text": [
      "(0, 123.51083301372368, 123.51083750811392, 0.44943902395289109, 0.4494245219655485, -1.6133691713772692e-05)\n",
      "(1, 123.51083301372368, 123.51077947082096, -5.3542902719527774, -5.354221225773002, -6.4477849970182595e-06)\n",
      "(2, 123.51083301372368, 123.51083080437296, -0.22093507254794528, -0.22094083963535716, 1.305137314088486e-05)\n",
      "(3, 123.51083301372368, 123.51078778302607, -4.5230697608644732, -4.5230094801230898, -6.6637423548416648e-06)\n",
      "(4, 123.51083301372368, 123.51082545144961, -0.75622740780545417, -0.75623831517320106, 7.2116462417488238e-06)\n",
      "(5, 123.51083301372368, 123.51083573405798, 0.27203342938264541, 0.27202332423726738, -1.8573697157126096e-05)\n",
      "(6, 123.51083301372368, 123.51088894958255, 5.5935858867428569, 5.5936254797606217, 3.5391320023989783e-06)\n",
      "(7, 123.51083301372368, 123.51086506103563, 3.2047311947280828, 3.2047238398292111, -1.1475076792113362e-06)\n",
      "(8, 123.51083301372368, 123.51085688912984, 2.3875406157003454, 2.3875249849110811, -3.2734187488968335e-06)\n",
      "(9, 123.51083301372368, 123.51081632403972, -1.6689683960180444, -1.6693627766748955, 0.00011813706802882007)\n",
      "(10, 123.51083301372368, 123.51085182897276, 1.8815249077874794, 1.881204395878908, -8.5180698026590082e-05)\n",
      "(11, 123.51083301372368, 123.5104808652257, -35.214849798137493, -35.214674726880979, -2.4857651346470298e-06)\n",
      "(12, 123.51083301372368, 123.5108228076361, -1.0206087580399981, -1.0208557840483508, 0.00012100431002342648)\n",
      "(13, 123.51083301372368, 123.51083571281821, 0.26990945229954377, 0.26961007228587935, -0.00055490116672694627)\n",
      "(14, 123.51083301372368, 123.51116037973652, 32.736601284000244, 32.736742113932841, 2.1509506814308721e-06)\n"
     ]
    }
   ],
   "source": [
    "# test dLdZ\n",
    "test_lnL_Z(Z, X, Y, hyper_params)"
   ]
  },
  {
   "cell_type": "code",
   "execution_count": null,
   "metadata": {
    "collapsed": false
   },
   "outputs": [],
   "source": []
  },
  {
   "cell_type": "code",
   "execution_count": null,
   "metadata": {
    "collapsed": true
   },
   "outputs": [],
   "source": []
  },
  {
   "cell_type": "markdown",
   "metadata": {},
   "source": [
    "# testing different summing algorithms..."
   ]
  },
  {
   "cell_type": "code",
   "execution_count": 20,
   "metadata": {
    "collapsed": false
   },
   "outputs": [
    {
     "name": "stdout",
     "output_type": "stream",
     "text": [
      "(5, 5, 5, 3) (5, 5, 5, 3) (5, 5) (5, 5)\n",
      "[[  0.00000000e+00   0.00000000e+00   0.00000000e+00]\n",
      " [  0.00000000e+00   0.00000000e+00   0.00000000e+00]\n",
      " [  0.00000000e+00   0.00000000e+00   0.00000000e+00]\n",
      " [  0.00000000e+00  -2.77555756e-17   0.00000000e+00]\n",
      " [ -5.55111512e-17   0.00000000e+00   0.00000000e+00]]\n",
      "[[  0.00000000e+00   0.00000000e+00  -6.50521303e-19]\n",
      " [  0.00000000e+00   0.00000000e+00  -1.38777878e-17]\n",
      " [  0.00000000e+00   0.00000000e+00   1.04083409e-17]\n",
      " [ -2.77555756e-17   2.77555756e-17   0.00000000e+00]\n",
      " [  0.00000000e+00   0.00000000e+00  -1.11022302e-16]]\n"
     ]
    }
   ],
   "source": [
    "# CAVEAT: differences of order 1e-17 for different sums!!\n",
    "\n",
    "grad_dKdZ1 = dKdZ(Z_initial, theta_rbf)\n",
    "grad_dKdZ2 = dKdZ(Z_initial, gamma_rbf)\n",
    "\n",
    "kernel1 = kernelRBF(Z_initial, theta_rbf)\n",
    "kernel2 = kernelRBF(Z_initial, gamma_rbf)\n",
    "\n",
    "grad_dLdK1 = dLdK(kernel1, X)\n",
    "grad_dLdK2 = dLdK(kernel2, Y)\n",
    "\n",
    "print grad_dKdZ1.shape, grad_dKdZ2.shape, grad_dLdK1.shape, grad_dLdK2.shape\n",
    "\n",
    "xx = np.sum(np.sum(grad_dLdK2[:, :, None, None] * grad_dKdZ2, axis = 0), axis = 0)\n",
    "\n",
    "vv = np.sum(np.sum(grad_dLdK2[:, :, None, None] * grad_dKdZ2, axis = 1), axis = 0)\n",
    "\n",
    "zz = np.sum(grad_dLdK2[:, :, None, None] * grad_dKdZ2, axis = (0, 1))\n",
    "\n",
    "yy = np.zeros((N, Q))\n",
    "for l in range(N):\n",
    "    for q in range(Q):\n",
    "        yy[l, q] = np.sum(grad_dLdK2 * grad_dKdZ2[:, :, l, q], axis = (0, 1))\n",
    "        \n",
    "print vv - zz \n",
    "print xx - yy"
   ]
  },
  {
   "cell_type": "code",
   "execution_count": null,
   "metadata": {
    "collapsed": true
   },
   "outputs": [],
   "source": []
  },
  {
   "cell_type": "markdown",
   "metadata": {},
   "source": [
    "# testing derivatives of hyper parameters"
   ]
  },
  {
   "cell_type": "code",
   "execution_count": 94,
   "metadata": {
    "collapsed": true
   },
   "outputs": [],
   "source": [
    "def lnL_h(pars, X, Y, Z, Z_initial):\n",
    "    \n",
    "    Z = np.reshape(Z, (Y.shape[0], Y.shape[1]))      \n",
    "    theta_rbf, gamma_rbf = pars    \n",
    "    kernel1 = kernelRBF(Z, theta_rbf)\n",
    "    kernel2 = kernelRBF(Z, gamma_rbf)\n",
    "    \n",
    "    Lx = LxOrLy(kernel1, X)                      \n",
    "    Ly = LxOrLy(kernel2, Y)                        \n",
    "    L = Lx + Ly #+ np.linalg.norm(Z_initial)\n",
    "    \n",
    "    gradL = dLdhyper(X, Y, Z, pars, kernel1, kernel2) \n",
    "    print -2.*Lx, -2.*Ly \n",
    "    return -2.*L, -2.*gradL\n",
    "\n",
    "\n",
    "def test_likelihood_h(pars, X, Y, Z, Z_initial):\n",
    "    \n",
    "    q, dldq = lnL_h(pars, X, Y, Z, Z_initial)\n",
    "    \n",
    "    for k in range(len(pars)):\n",
    "        pars1 = 1. * pars\n",
    "        tiny = 1e-5 #* pars[k]\n",
    "        pars1[k] += tiny\n",
    "        q1, foo = lnL_h(pars1, X, Y, Z, Z_initial)\n",
    "        dldqk = (q1 - q)/tiny\n",
    "        print(k, q, q1, dldqk, dldq[k], (dldq[k]-dldqk)/(dldq[k]+dldqk))\n",
    "    return\n",
    "\n",
    "\n",
    "def dLdhyper(X, Y, Z, hyper_params, kernel1, kernel2):  \n",
    "    theta_rbf, gamma_rbf = hyper_params     \n",
    "    dKdrbf1 = 1./theta_rbf * kernel1\n",
    "    dKdrbf2 = 1./gamma_rbf * kernel2\n",
    "    \n",
    "    dLdtheta_rbf = np.sum(dLdK(kernel1, X) * dKdrbf1)    \n",
    "    dLdgamma_rbf = np.sum(dLdK(kernel2, Y) * dKdrbf2)   \n",
    "    return np.array([dLdtheta_rbf, dLdgamma_rbf])"
   ]
  },
  {
   "cell_type": "code",
   "execution_count": 95,
   "metadata": {
    "collapsed": true
   },
   "outputs": [],
   "source": [
    "# initialize parameters\n",
    "theta_rbf, gamma_rbf = np.pi, np.pi\n",
    "hyper_params = np.array([theta_rbf, gamma_rbf])\n",
    "Z_initial = Y[:] \n",
    "Z = np.reshape(Z_initial, (N*Q,))"
   ]
  },
  {
   "cell_type": "code",
   "execution_count": 96,
   "metadata": {
    "collapsed": false
   },
   "outputs": [
    {
     "name": "stdout",
     "output_type": "stream",
     "text": [
      "89.6355489649 38.5973172015\n",
      "89.6356461158 38.5973172015\n",
      "(0, 128.23286616644123, 128.23296331730023, 9.7150859005523671, 9.7150990946500357, 6.7905157217509332e-07)\n",
      "89.6355489649 38.597358258\n",
      "(1, 128.23286616644123, 128.2329072229407, 4.105649946950507, 4.1056554190305352, 6.6640805381360583e-07)\n"
     ]
    }
   ],
   "source": [
    "test_likelihood_h(hyper_params, X, Y, Z, Z_initial)"
   ]
  },
  {
   "cell_type": "code",
   "execution_count": 101,
   "metadata": {
    "collapsed": false
   },
   "outputs": [
    {
     "name": "stdout",
     "output_type": "stream",
     "text": [
      "6.59704883432e-06\n"
     ]
    }
   ],
   "source": [
    "gradL = dLdhyper(X, Y, Z, hyper_params, kernel1, kernel2)\n",
    "L1 = LxOrLy(kernel1, X)\n",
    "tiny = 1e-5\n",
    "kernel_new = kernelRBF(Z_initial, theta_rbf + tiny)\n",
    "L2 = LxOrLy(kernel_new, X)\n",
    "print (L2-L1)/tiny - gradL[0]"
   ]
  },
  {
   "cell_type": "code",
   "execution_count": null,
   "metadata": {
    "collapsed": true
   },
   "outputs": [],
   "source": []
  }
 ],
 "metadata": {
  "kernelspec": {
   "display_name": "Python 2",
   "language": "python",
   "name": "python2"
  },
  "language_info": {
   "codemirror_mode": {
    "name": "ipython",
    "version": 2
   },
   "file_extension": ".py",
   "mimetype": "text/x-python",
   "name": "python",
   "nbconvert_exporter": "python",
   "pygments_lexer": "ipython2",
   "version": "2.7.13"
  }
 },
 "nbformat": 4,
 "nbformat_minor": 2
}
