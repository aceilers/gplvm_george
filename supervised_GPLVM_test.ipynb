{
 "cells": [
  {
   "cell_type": "code",
   "execution_count": 4,
   "metadata": {
    "collapsed": true
   },
   "outputs": [],
   "source": [
    "import numpy as np\n",
    "import matplotlib.pyplot as plt\n",
    "import scipy.optimize as op\n",
    "import pickle\n",
    "from astropy.table import Column\n",
    "from astropy.table import Table\n",
    "from sklearn.decomposition import PCA\n",
    "from scipy.spatial.distance import pdist\n",
    "from itertools import product\n",
    "from scipy.spatial import distance_matrix\n",
    "%matplotlib inline"
   ]
  },
  {
   "cell_type": "code",
   "execution_count": 5,
   "metadata": {
    "collapsed": true
   },
   "outputs": [],
   "source": [
    "N = 5             # number of stars\n",
    "D = 7             # number of pixels\n",
    "Q = 3             # number of labels/latent dimensions, Q<=L"
   ]
  },
  {
   "cell_type": "code",
   "execution_count": 6,
   "metadata": {
    "collapsed": false
   },
   "outputs": [],
   "source": [
    "np.random.seed(42)\n",
    "X = np.random.uniform(0, 1, (N, D))          # data\n",
    "Y = np.random.normal(0, 1, (N, Q))           # labels"
   ]
  },
  {
   "cell_type": "code",
   "execution_count": 7,
   "metadata": {
    "collapsed": true
   },
   "outputs": [],
   "source": [
    "# radius basis function\n",
    "def kernelRBF(Z, rbf):   \n",
    "    B = B_matrix(Z)\n",
    "    band = 1.\n",
    "    kernel = rbf * np.exp(band * B) \n",
    "    return kernel\n",
    "\n",
    "# dimensionless log kernel\n",
    "def B_matrix(Z):\n",
    "    N = Z.shape[0]\n",
    "    B = np.zeros((N, N))\n",
    "    for entry in list(product(range(N), repeat=2)):\n",
    "        i, j = entry\n",
    "        B[i, j] = -0.5 * np.dot((Z[i, :] - Z[j, :]).T, (Z[i, :] - Z[j, :]))\n",
    "    return B"
   ]
  },
  {
   "cell_type": "code",
   "execution_count": 8,
   "metadata": {
    "collapsed": false
   },
   "outputs": [],
   "source": [
    "# initialize parameters\n",
    "theta_rbf, gamma_rbf = np.pi, np.pi\n",
    "hyper_params = np.array([theta_rbf, gamma_rbf])\n",
    "Z_initial = Y[:] \n",
    "Z = np.reshape(Z_initial, (N*Q,))"
   ]
  },
  {
   "cell_type": "code",
   "execution_count": 9,
   "metadata": {
    "collapsed": false
   },
   "outputs": [
    {
     "data": {
      "text/plain": [
       "<matplotlib.colorbar.Colorbar at 0x1154e1090>"
      ]
     },
     "execution_count": 9,
     "metadata": {},
     "output_type": "execute_result"
    },
    {
     "data": {
      "image/png": "[encoded data removed]",
      "text/plain": [
       "<matplotlib.figure.Figure at 0x108d5a110>"
      ]
     },
     "metadata": {},
     "output_type": "display_data"
    }
   ],
   "source": [
    "kernel1 = kernelRBF(Z_initial, theta_rbf)\n",
    "plt.imshow(kernel1, interpolation = None)\n",
    "plt.colorbar()"
   ]
  },
  {
   "cell_type": "code",
   "execution_count": 10,
   "metadata": {
    "collapsed": true
   },
   "outputs": [],
   "source": [
    "# derivative of the kernel with respect to the latent variables Z\n",
    "def dKdZ(Z, rbf):\n",
    "    kernel = kernelRBF(Z, rbf)\n",
    "    A = A_matrix(Z)\n",
    "    band = 1.\n",
    "    grad_dKdZ = band * kernel[:, :, None, None] * A\n",
    "    return grad_dKdZ\n",
    "\n",
    "def A_matrix(Z): \n",
    "    N, Q = Z.shape[0], Z.shape[1]\n",
    "    A = np.zeros((N, N, N, Q))\n",
    "    for entry in list(product(range(N), repeat=3)):\n",
    "        i, j, l = entry\n",
    "        if l == j:\n",
    "            A[i, j, l, :] += Z[i, :] - Z[l, :]\n",
    "        if l == i:\n",
    "            A[i, j, l, :] += Z[j, :] - Z[l, :]\n",
    "    return A "
   ]
  },
  {
   "cell_type": "code",
   "execution_count": 11,
   "metadata": {
    "collapsed": false
   },
   "outputs": [
    {
     "name": "stdout",
     "output_type": "stream",
     "text": [
      "(5, 5, 5, 3)\n"
     ]
    }
   ],
   "source": [
    "# testing the derivatives\n",
    "grad_dKdZ = dKdZ(Z_initial, theta_rbf)\n",
    "print grad_dKdZ.shape"
   ]
  },
  {
   "cell_type": "code",
   "execution_count": 12,
   "metadata": {
    "collapsed": false
   },
   "outputs": [
    {
     "name": "stdout",
     "output_type": "stream",
     "text": [
      "[[ 0.          0.          0.          2.21255893  0.        ]\n",
      " [ 0.          0.          0.          0.24356692  0.        ]\n",
      " [ 0.          0.          0.          1.25959125  0.        ]\n",
      " [ 2.21255893  0.24356692  1.25959125  0.          2.45875884]\n",
      " [ 0.          0.          0.          2.45875884  0.        ]]\n"
     ]
    }
   ],
   "source": [
    "# derivative with respect to the 2nd latent variable of the 4th object\n",
    "q = 1\n",
    "l = 3\n",
    "A_lq = np.zeros((N, N))\n",
    "for entry in list(product(range(N), repeat=2)):\n",
    "    i, j = entry\n",
    "    if j == l:\n",
    "        A_lq[i, j] += Z_initial[i, q] - Z_initial[l, q]\n",
    "    if i == l:\n",
    "        A_lq[i, j] += Z_initial[j, q] - Z_initial[l, q]\n",
    "print A_lq"
   ]
  },
  {
   "cell_type": "code",
   "execution_count": 13,
   "metadata": {
    "collapsed": false
   },
   "outputs": [
    {
     "data": {
      "text/plain": [
       "<matplotlib.colorbar.Colorbar at 0x11593dd50>"
      ]
     },
     "execution_count": 13,
     "metadata": {},
     "output_type": "execute_result"
    },
    {
     "data": {
      "image/png": "[encoded data removed]",
      "text/plain": [
       "<matplotlib.figure.Figure at 0x1154b7590>"
      ]
     },
     "metadata": {},
     "output_type": "display_data"
    }
   ],
   "source": [
    "plt.imshow(A_lq, interpolation = None)\n",
    "plt.colorbar()"
   ]
  },
  {
   "cell_type": "markdown",
   "metadata": {},
   "source": [
    "# analytical derivative of the kernel"
   ]
  },
  {
   "cell_type": "code",
   "execution_count": 14,
   "metadata": {
    "collapsed": false
   },
   "outputs": [
    {
     "data": {
      "text/plain": [
       "<matplotlib.colorbar.Colorbar at 0x115994610>"
      ]
     },
     "execution_count": 14,
     "metadata": {},
     "output_type": "execute_result"
    },
    {
     "data": {
      "image/png": "[encoded data removed]",
      "text/plain": [
       "<matplotlib.figure.Figure at 0x11596f250>"
      ]
     },
     "metadata": {},
     "output_type": "display_data"
    }
   ],
   "source": [
    "grad_dKdZ_analytic = kernel1 * A_lq\n",
    "plt.imshow(grad_dKdZ_analytic, interpolation = None)\n",
    "plt.colorbar()"
   ]
  },
  {
   "cell_type": "markdown",
   "metadata": {},
   "source": [
    "# numerical derivative of the kernel"
   ]
  },
  {
   "cell_type": "code",
   "execution_count": 18,
   "metadata": {
    "collapsed": false
   },
   "outputs": [
    {
     "name": "stdout",
     "output_type": "stream",
     "text": [
      "[[ 0.     0.     0.   ]\n",
      " [ 0.     0.     0.   ]\n",
      " [ 0.     0.     0.   ]\n",
      " [ 0.     0.001  0.   ]\n",
      " [ 0.     0.     0.   ]]\n"
     ]
    }
   ],
   "source": [
    "# sligtly new set of latent variables (2nd latent variable of 4th object)\n",
    "tiny = 1e-3\n",
    "Z_new = 1. * Z_initial\n",
    "Z_new[l, q] += tiny\n",
    "print Z_new - Z_initial"
   ]
  },
  {
   "cell_type": "code",
   "execution_count": 19,
   "metadata": {
    "collapsed": false
   },
   "outputs": [
    {
     "data": {
      "text/plain": [
       "<matplotlib.colorbar.Colorbar at 0x11607b990>"
      ]
     },
     "execution_count": 19,
     "metadata": {},
     "output_type": "execute_result"
    },
    {
     "data": {
      "image/png": "[encoded data removed]",
      "text/plain": [
       "<matplotlib.figure.Figure at 0x115e38ed0>"
      ]
     },
     "metadata": {},
     "output_type": "display_data"
    }
   ],
   "source": [
    "kernel1_new = kernelRBF(Z_new, theta_rbf)\n",
    "grad_dKdZ_numerical = (kernel1_new - kernel1) / tiny\n",
    "plt.imshow(grad_dKdZ_numerical, interpolation = None)\n",
    "plt.colorbar()"
   ]
  },
  {
   "cell_type": "code",
   "execution_count": 20,
   "metadata": {
    "collapsed": false
   },
   "outputs": [
    {
     "data": {
      "text/plain": [
       "<matplotlib.colorbar.Colorbar at 0x1162ce2d0>"
      ]
     },
     "execution_count": 20,
     "metadata": {},
     "output_type": "execute_result"
    },
    {
     "data": {
      "image/png": "[encoded data removed]",
      "text/plain": [
       "<matplotlib.figure.Figure at 0x115e4f9d0>"
      ]
     },
     "metadata": {},
     "output_type": "display_data"
    }
   ],
   "source": [
    "# difference between old and new kernel\n",
    "plt.imshow(grad_dKdZ_numerical - grad_dKdZ_analytic, interpolation = None)\n",
    "plt.colorbar()"
   ]
  },
  {
   "cell_type": "code",
   "execution_count": null,
   "metadata": {
    "collapsed": true
   },
   "outputs": [],
   "source": []
  }
 ],
 "metadata": {
  "kernelspec": {
   "display_name": "Python 2",
   "language": "python",
   "name": "python2"
  },
  "language_info": {
   "codemirror_mode": {
    "name": "ipython",
    "version": 2
   },
   "file_extension": ".py",
   "mimetype": "text/x-python",
   "name": "python",
   "nbconvert_exporter": "python",
   "pygments_lexer": "ipython2",
   "version": "2.7.13"
  }
 },
 "nbformat": 4,
 "nbformat_minor": 2
}
